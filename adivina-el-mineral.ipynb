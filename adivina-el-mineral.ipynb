{
 "cells": [
  {
   "cell_type": "code",
   "execution_count": null,
   "metadata": {},
   "outputs": [],
   "source": [
    "# Instalar las bibliotecas necesarias\n",
    "!pip install Pillow matplotlib"
   ]
  },
  {
   "cell_type": "code",
   "execution_count": null,
   "metadata": {},
   "outputs": [],
   "source": [
    "import os\n",
    "import random\n",
    "from PIL import Image\n",
    "import matplotlib.pyplot as plt\n",
    "\n",
    "# Función para seleccionar y mostrar una imagen aleatoria desde el directorio actual\n",
    "def mostrar_imagen_aleatoria(directorio):\n",
    "    imagenes = [archivo for archivo in os.listdir(directorio) if archivo.endswith(('.png', '.jpg', '.jpeg'))]\n",
    "    imagen_aleatoria = random.choice(imagenes)\n",
    "    \n",
    "    # Mostrar la imagen\n",
    "    ruta_imagen = os.path.join(directorio, imagen_aleatoria)\n",
    "    imagen = Image.open(ruta_imagen)\n",
    "    plt.imshow(imagen)\n",
    "    plt.axis('off')\n",
    "    plt.show()\n",
    "    \n",
    "    return imagen_aleatoria\n",
    "\n",
    "# Función principal del juego\n",
    "def juego_minerales(directorio):\n",
    "    while True:\n",
    "        imagen_aleatoria = mostrar_imagen_aleatoria(directorio)\n",
    "        respuesta = input(\"¿Cuál es el nombre del mineral? (Escribe 'salir' para terminar el juego) \")\n",
    "\n",
    "        if respuesta.lower() == 'salir':\n",
    "            print(\"Gracias por jugar. ¡Hasta la próxima!\")\n",
    "            break\n",
    "        \n",
    "        nombre_correcto = os.path.splitext(imagen_aleatoria)[0]\n",
    "\n",
    "        if respuesta.lower() == nombre_correcto.lower():\n",
    "            print(\"¡Correcto!\")\n",
    "        else:\n",
    "            print(f\"Incorrecto. El nombre correcto es: {nombre_correcto}\")\n",
    "\n",
    "# Solicitar al usuario la ruta del directorio solo una vez\n",
    "directorio = input(\"Introduce la ruta del directorio donde están las imágenes: \")\n",
    "\n",
    "# Ejecutar el juego\n",
    "juego_minerales(directorio)"
   ]
  }
 ],
 "metadata": {
  "kernelspec": {
   "display_name": "Python 3",
   "language": "python",
   "name": "python3"
  },
  "language_info": {
   "codemirror_mode": {
    "name": "ipython",
    "version": 3
   },
   "file_extension": ".py",
   "mimetype": "text/x-python",
   "name": "python",
   "nbconvert_exporter": "python",
   "pygments_lexer": "ipython3",
   "version": "3.7.3"
  }
 },
 "nbformat": 4,
 "nbformat_minor": 4
}
